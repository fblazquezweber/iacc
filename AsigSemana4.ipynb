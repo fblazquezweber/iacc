{
  "nbformat": 4,
  "nbformat_minor": 0,
  "metadata": {
    "colab": {
      "provenance": [],
      "authorship_tag": "ABX9TyPl9OZjzhFmr6fBJS3Q9RAV",
      "include_colab_link": true
    },
    "kernelspec": {
      "name": "python3",
      "display_name": "Python 3"
    },
    "language_info": {
      "name": "python"
    }
  },
  "cells": [
    {
      "cell_type": "markdown",
      "metadata": {
        "id": "view-in-github",
        "colab_type": "text"
      },
      "source": [
        "<a href=\"https://colab.research.google.com/github/fblazquezweber/iacc/blob/main/AsigSemana4.ipynb\" target=\"_parent\"><img src=\"https://colab.research.google.com/assets/colab-badge.svg\" alt=\"Open In Colab\"/></a>"
      ]
    },
    {
      "cell_type": "code",
      "execution_count": null,
      "metadata": {
        "id": "mbAWgZ2MMh5H"
      },
      "outputs": [],
      "source": [
        "from queue import Queue\n",
        "\n",
        "class SistemaDeEnvios:\n",
        "  def __init__(self):\n",
        "    self.cola_envios =  Queue()\n",
        "\n",
        "  def recibir_paquete(self, paquete):\n",
        "    #Encola un paquete al final de la cola\n",
        "    if not self.cola_esta_llena(limite):\n",
        "      self.cola_envios.put(paquete)\n",
        "      print(f\"Paquete {paquete['id']} encolado.\")\n",
        "    else:\n",
        "      print(\"No se puede añadir el envío, la cola está llena.\")\n",
        "\n",
        "  def enviar_paquete(self):\n",
        "    #Desencola el primer paquete de la cola\n",
        "    if not self.cola_envios.empty():\n",
        "      paquete_enviado = self.cola_envios.get()\n",
        "      print(f\"Paquete {paquete_enviado['id']} enviado.\")\n",
        "    else:\n",
        "      print(\"No hay paquetes para enviar.\")\n",
        "      return None\n",
        "\n",
        "  def cola_esta_llena(self, limite):\n",
        "    #Verifica si la cola está llena, basado en un límite establecido.\n",
        "    return self.cola_envios.qsize() >= limite\n",
        "\n",
        "  def ver_tamaño_cola(self):\n",
        "    #Permite ver el tamaño actual de la cola.\n",
        "    return self.cola_envios.qsize()\n",
        "\n",
        "  def vaciar_cola(self):\n",
        "    #Vacía todos los elementos de la cola.else:\n",
        "    while not self.cola_envios.empty():\n",
        "      self.cola_envios.get()\n",
        "      print(\"La cola ha sido vaciada completamente.\")\n",
        "    else:\n",
        "      print(\"La cola ya esta vacia.\")\n",
        "\n",
        "opciones = [\"Registrar paquete\",\"Enviar paquete\", \"Tamaño de cola\",\"Vaciar cola\", \"Salir\"]\n",
        "\n",
        "def mostrar_menu():\n",
        "  print('------Menu opciones------')\n",
        "  for i in range(len(opciones)):\n",
        "    print(f'{i+1}.{opciones[i]}')\n",
        "  print('-------------------------')\n",
        "\n",
        "#Se establece el numero de unidades maximo de paquetes que se pueden procesar en 1 dia\n",
        "i=0\n",
        "limite = 3\n",
        "sistema = SistemaDeEnvios()\n",
        "\n",
        "while True:\n",
        "  mostrar_menu()\n",
        "  opcion = int(input('Ingrese una opcion: '))\n",
        "\n",
        "  if opcion == 1:\n",
        "    i+=1\n",
        "    sistema.recibir_paquete({'id': i, 'Direccioon ': input(\"Ingrese la direccion: \")})\n",
        "  elif opcion == 2:\n",
        "    sistema.enviar_paquete()\n",
        "  elif opcion == 3:\n",
        "    print(f\"Tamaño de la cola:{sistema.ver_tamaño_cola()}\")\n",
        "  elif opcion == 4:\n",
        "    sistema.vaciar_cola()\n",
        "  elif opcion == 5:\n",
        "    print(\"Saliendo del programa...\")\n",
        "    break\n",
        "  else:\n",
        "    print(\"Opcion no valida. Intente de nuevo.\")\n"
      ]
    }
  ]
}