{
  "nbformat": 4,
  "nbformat_minor": 0,
  "metadata": {
    "colab": {
      "provenance": [],
      "authorship_tag": "ABX9TyPc4xX+9MwmP/nA4rBxJ7Se",
      "include_colab_link": true
    },
    "kernelspec": {
      "name": "python3",
      "display_name": "Python 3"
    },
    "language_info": {
      "name": "python"
    }
  },
  "cells": [
    {
      "cell_type": "markdown",
      "metadata": {
        "id": "view-in-github",
        "colab_type": "text"
      },
      "source": [
        "<a href=\"https://colab.research.google.com/github/fblazquezweber/iacc/blob/main/AsignacionSemana3.ipynb\" target=\"_parent\"><img src=\"https://colab.research.google.com/assets/colab-badge.svg\" alt=\"Open In Colab\"/></a>"
      ]
    },
    {
      "cell_type": "code",
      "execution_count": null,
      "metadata": {
        "colab": {
          "base_uri": "https://localhost:8080/"
        },
        "id": "0c2jbHpgh2BR",
        "outputId": "e6a37dfa-0d18-4f7b-8756-2dba514f9e4a"
      },
      "outputs": [
        {
          "output_type": "stream",
          "name": "stdout",
          "text": [
            "------Menu opciones------\n",
            "1.Agregar venta\n",
            "2.Mostrar ventas\n",
            "3.Cancelar venta\n",
            "4.Salir\n",
            "-------------------------\n",
            "Ingrese una opcion: 4\n",
            "Saliendo del programa.\n"
          ]
        }
      ],
      "source": [
        "class Venta:\n",
        "    def __init__(self, producto, cantidad, precio):\n",
        "        self.producto = producto\n",
        "        self.cantidad = cantidad\n",
        "        self.precio = precio\n",
        "\n",
        "opciones = [\"Agregar venta\",\"Mostrar ventas\", \"Cancelar venta\", \"Salir\"]\n",
        "\n",
        "def mostrar_menu():\n",
        "  print('------Menu opciones------')\n",
        "  for i in range(len(opciones)):\n",
        "    print(f'{i+1}.{opciones[i]}')\n",
        "  print('-------------------------')\n",
        "\n",
        "def  push_venta(pila_ventas, venta):\n",
        "  pila_ventas.append(venta)\n",
        "\n",
        "def pop_venta(pila_ventas):\n",
        "  if not pila_ventas:\n",
        "    return None\n",
        "  return pila_ventas.pop()\n",
        "\n",
        "while True:\n",
        "  mostrar_menu()\n",
        "  opcion = int(input('Ingrese una opcion: '))\n",
        "\n",
        "  if opcion == 1:\n",
        "    producto = input(\"Ingrese el producto: \")\n",
        "    cantidad = int(input(\"Ingrese la cantidad: \"))\n",
        "    precio = float(input(\"Ingrese el precio unitario: \"))\n",
        "    nueva_venta = Venta(producto, cantidad, precio)\n",
        "    push_venta(pila_ventas, nueva_venta)\n",
        "    print(\"Venta agregada con éxito.\")\n",
        "\n",
        "  elif opcion == 2:\n",
        "    cont = 0\n",
        "    if not pila_ventas:\n",
        "      print(\"No hay ventas registradas.\")\n",
        "    else:\n",
        "      print(\"Ventas registradas:\")\n",
        "      print()\n",
        "      for venta in pila_ventas:\n",
        "        print(f\"Venta {cont+1}:\")\n",
        "        cont += 1\n",
        "        print(\"Producto:\", venta.producto)\n",
        "        print(\"Cantidad:\", venta.cantidad)\n",
        "        print(\"Precio:\", f\"${venta.precio:.2f}\")\n",
        "        print()\n",
        "\n",
        "  elif opcion == 3:\n",
        "    removida = pop_venta(pila_ventas)\n",
        "    if removida is None:\n",
        "      print(\"No hay ventas para cancelar.\")\n",
        "    else:\n",
        "      print(\"Venta removida:\")\n",
        "      print(\"Producto:\", removida.producto)\n",
        "      print(\"Cantidad:\", removida.cantidad)\n",
        "      print(\"Precio:\", f\"${removida.precio:.2f}\")\n",
        "\n",
        "  elif opcion == 4:\n",
        "    print(\"Saliendo del programa.\")\n",
        "    break\n",
        "\n",
        "  else:\n",
        "    print(\"Opción no válida. Por favor, elija una opción válida.\")\n",
        "\n"
      ]
    }
  ]
}